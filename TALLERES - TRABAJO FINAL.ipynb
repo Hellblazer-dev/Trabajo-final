{
  "cells": [
    {
      "cell_type": "code",
      "source": [
        "!pip uninstall -y numpy\n",
        "!pip install numpy==1.23.5\n",
        "!pip install --upgrade sweetviz"
      ],
      "metadata": {
        "id": "FQCuwruOF-f3",
        "outputId": "b806ec72-c759-4779-b92f-53d553331821",
        "colab": {
          "base_uri": "https://localhost:8080/",
          "height": 894
        }
      },
      "execution_count": 1,
      "outputs": [
        {
          "output_type": "stream",
          "name": "stdout",
          "text": [
            "Found existing installation: numpy 1.23.5\n",
            "Uninstalling numpy-1.23.5:\n",
            "  Successfully uninstalled numpy-1.23.5\n",
            "Collecting numpy==1.23.5\n",
            "  Using cached numpy-1.23.5-cp311-cp311-manylinux_2_17_x86_64.manylinux2014_x86_64.whl.metadata (2.3 kB)\n",
            "Using cached numpy-1.23.5-cp311-cp311-manylinux_2_17_x86_64.manylinux2014_x86_64.whl (17.1 MB)\n",
            "Installing collected packages: numpy\n",
            "\u001b[31mERROR: pip's dependency resolver does not currently take into account all the packages that are installed. This behaviour is the source of the following dependency conflicts.\n",
            "thinc 8.3.6 requires numpy<3.0.0,>=2.0.0, but you have numpy 1.23.5 which is incompatible.\n",
            "chex 0.1.89 requires numpy>=1.24.1, but you have numpy 1.23.5 which is incompatible.\n",
            "xarray 2025.1.2 requires numpy>=1.24, but you have numpy 1.23.5 which is incompatible.\n",
            "bigframes 1.42.0 requires numpy>=1.24.0, but you have numpy 1.23.5 which is incompatible.\n",
            "albumentations 2.0.5 requires numpy>=1.24.4, but you have numpy 1.23.5 which is incompatible.\n",
            "scikit-image 0.25.2 requires numpy>=1.24, but you have numpy 1.23.5 which is incompatible.\n",
            "jax 0.5.2 requires numpy>=1.25, but you have numpy 1.23.5 which is incompatible.\n",
            "albucore 0.0.23 requires numpy>=1.24.4, but you have numpy 1.23.5 which is incompatible.\n",
            "blosc2 3.3.0 requires numpy>=1.26, but you have numpy 1.23.5 which is incompatible.\n",
            "jaxlib 0.5.1 requires numpy>=1.25, but you have numpy 1.23.5 which is incompatible.\n",
            "treescope 0.1.9 requires numpy>=1.25.2, but you have numpy 1.23.5 which is incompatible.\n",
            "imbalanced-learn 0.13.0 requires numpy<3,>=1.24.3, but you have numpy 1.23.5 which is incompatible.\n",
            "pymc 5.21.2 requires numpy>=1.25.0, but you have numpy 1.23.5 which is incompatible.\n",
            "tensorflow 2.18.0 requires numpy<2.1.0,>=1.26.0, but you have numpy 1.23.5 which is incompatible.\u001b[0m\u001b[31m\n",
            "\u001b[0mSuccessfully installed numpy-1.23.5\n"
          ]
        },
        {
          "output_type": "display_data",
          "data": {
            "application/vnd.colab-display-data+json": {
              "pip_warning": {
                "packages": [
                  "numpy"
                ]
              },
              "id": "be2dcbcb41774918aa1599e5884f2734"
            }
          },
          "metadata": {}
        },
        {
          "output_type": "stream",
          "name": "stdout",
          "text": [
            "Requirement already satisfied: sweetviz in /usr/local/lib/python3.11/dist-packages (2.3.1)\n",
            "Requirement already satisfied: pandas!=1.0.0,!=1.0.1,!=1.0.2,>=0.25.3 in /usr/local/lib/python3.11/dist-packages (from sweetviz) (2.2.2)\n",
            "Requirement already satisfied: numpy>=1.16.0 in /usr/local/lib/python3.11/dist-packages (from sweetviz) (1.23.5)\n",
            "Requirement already satisfied: matplotlib>=3.1.3 in /usr/local/lib/python3.11/dist-packages (from sweetviz) (3.10.0)\n",
            "Requirement already satisfied: tqdm>=4.43.0 in /usr/local/lib/python3.11/dist-packages (from sweetviz) (4.67.1)\n",
            "Requirement already satisfied: scipy>=1.3.2 in /usr/local/lib/python3.11/dist-packages (from sweetviz) (1.14.1)\n",
            "Requirement already satisfied: jinja2>=2.11.1 in /usr/local/lib/python3.11/dist-packages (from sweetviz) (3.1.6)\n",
            "Requirement already satisfied: importlib-resources>=1.2.0 in /usr/local/lib/python3.11/dist-packages (from sweetviz) (6.5.2)\n",
            "Requirement already satisfied: MarkupSafe>=2.0 in /usr/local/lib/python3.11/dist-packages (from jinja2>=2.11.1->sweetviz) (3.0.2)\n",
            "Requirement already satisfied: contourpy>=1.0.1 in /usr/local/lib/python3.11/dist-packages (from matplotlib>=3.1.3->sweetviz) (1.3.2)\n",
            "Requirement already satisfied: cycler>=0.10 in /usr/local/lib/python3.11/dist-packages (from matplotlib>=3.1.3->sweetviz) (0.12.1)\n",
            "Requirement already satisfied: fonttools>=4.22.0 in /usr/local/lib/python3.11/dist-packages (from matplotlib>=3.1.3->sweetviz) (4.57.0)\n",
            "Requirement already satisfied: kiwisolver>=1.3.1 in /usr/local/lib/python3.11/dist-packages (from matplotlib>=3.1.3->sweetviz) (1.4.8)\n",
            "Requirement already satisfied: packaging>=20.0 in /usr/local/lib/python3.11/dist-packages (from matplotlib>=3.1.3->sweetviz) (24.2)\n",
            "Requirement already satisfied: pillow>=8 in /usr/local/lib/python3.11/dist-packages (from matplotlib>=3.1.3->sweetviz) (11.1.0)\n",
            "Requirement already satisfied: pyparsing>=2.3.1 in /usr/local/lib/python3.11/dist-packages (from matplotlib>=3.1.3->sweetviz) (3.2.3)\n",
            "Requirement already satisfied: python-dateutil>=2.7 in /usr/local/lib/python3.11/dist-packages (from matplotlib>=3.1.3->sweetviz) (2.8.2)\n",
            "Requirement already satisfied: pytz>=2020.1 in /usr/local/lib/python3.11/dist-packages (from pandas!=1.0.0,!=1.0.1,!=1.0.2,>=0.25.3->sweetviz) (2025.2)\n",
            "Requirement already satisfied: tzdata>=2022.7 in /usr/local/lib/python3.11/dist-packages (from pandas!=1.0.0,!=1.0.1,!=1.0.2,>=0.25.3->sweetviz) (2025.2)\n",
            "Requirement already satisfied: six>=1.5 in /usr/local/lib/python3.11/dist-packages (from python-dateutil>=2.7->matplotlib>=3.1.3->sweetviz) (1.17.0)\n",
            "\u001b[31mERROR: Operation cancelled by user\u001b[0m\u001b[31m\n",
            "\u001b[0m^C\n"
          ]
        }
      ]
    },
    {
      "cell_type": "code",
      "source": [
        "import pandas as pd\n",
        "import sweetviz as sv\n",
        "\n",
        "# Leer el archivo\n",
        "data = pd.read_csv('/content/bank.csv')\n",
        "\n",
        "# Generar el análisis\n",
        "report = sv.analyze(data)\n",
        "\n",
        "# Mostrar el reporte (como archivo HTML)\n",
        "report.show_html('/content/reporte_sweetviz.html')\n"
      ],
      "metadata": {
        "id": "yV6x6BebHGa4",
        "outputId": "85780ed3-464b-4670-82f0-d4af0cbd7ca5",
        "colab": {
          "base_uri": "https://localhost:8080/",
          "height": 66,
          "referenced_widgets": [
            "a916e63354c74cf296f75390c7ef1b82",
            "e50271651ef34b02b20a06fb9586e1c6",
            "8bdd815641214dc99e2fa012a09450c3",
            "19018337c3c94834939300b063191593",
            "4a26e25450364331ad9d8c21e9d4c525",
            "01512a03c724473c88754282282e6061",
            "fbdb32d4ca274dc2b4d23f320ad08fff",
            "b83cb44294ba46919d66df8d9d5fab25",
            "4c93d5d52d9c4b3899489c5b92c925ad",
            "b8003d9dac0f4e7da9292f608ad317dd",
            "39ceff0eb16e4b17b22db4e6b70b095e"
          ]
        }
      },
      "execution_count": 35,
      "outputs": [
        {
          "output_type": "display_data",
          "data": {
            "text/plain": [
              "                                             |          | [  0%]   00:00 -> (? left)"
            ],
            "application/vnd.jupyter.widget-view+json": {
              "version_major": 2,
              "version_minor": 0,
              "model_id": "a916e63354c74cf296f75390c7ef1b82"
            }
          },
          "metadata": {}
        },
        {
          "output_type": "stream",
          "name": "stdout",
          "text": [
            "Report /content/reporte_sweetviz.html was generated! NOTEBOOK/COLAB USERS: the web browser MAY not pop up, regardless, the report IS saved in your notebook/colab files.\n"
          ]
        }
      ]
    },
    {
      "cell_type": "code",
      "source": [
        "import pandas as pd\n",
        "\n",
        "# Mostrar las primeras filas del dataset\n",
        "print(data.head())\n",
        "\n",
        "# Resumen de las columnas, tipos de datos y valores nulos\n",
        "print(data.info())\n",
        "\n",
        "# Estadísticas descriptivas de las variables numéricas\n",
        "print(data.describe())"
      ],
      "metadata": {
        "id": "6tdsNlJuG9QW",
        "outputId": "b81be90e-833a-4805-9f8f-37c74bf9ec21",
        "colab": {
          "base_uri": "https://localhost:8080/"
        }
      },
      "execution_count": 36,
      "outputs": [
        {
          "output_type": "stream",
          "name": "stdout",
          "text": [
            "   age         job  marital  education default  balance housing loan  contact  \\\n",
            "0   59      admin.  married  secondary      no     2343     yes   no  unknown   \n",
            "1   56      admin.  married  secondary      no       45      no   no  unknown   \n",
            "2   41  technician  married  secondary      no     1270     yes   no  unknown   \n",
            "3   55    services  married  secondary      no     2476     yes   no  unknown   \n",
            "4   54      admin.  married   tertiary      no      184      no   no  unknown   \n",
            "\n",
            "   day month  duration  campaign  pdays  previous poutcome deposit  \n",
            "0    5   may      1042         1     -1         0  unknown     yes  \n",
            "1    5   may      1467         1     -1         0  unknown     yes  \n",
            "2    5   may      1389         1     -1         0  unknown     yes  \n",
            "3    5   may       579         1     -1         0  unknown     yes  \n",
            "4    5   may       673         2     -1         0  unknown     yes  \n",
            "<class 'pandas.core.frame.DataFrame'>\n",
            "RangeIndex: 11162 entries, 0 to 11161\n",
            "Data columns (total 17 columns):\n",
            " #   Column     Non-Null Count  Dtype \n",
            "---  ------     --------------  ----- \n",
            " 0   age        11162 non-null  int64 \n",
            " 1   job        11162 non-null  object\n",
            " 2   marital    11162 non-null  object\n",
            " 3   education  11162 non-null  object\n",
            " 4   default    11162 non-null  object\n",
            " 5   balance    11162 non-null  int64 \n",
            " 6   housing    11162 non-null  object\n",
            " 7   loan       11162 non-null  object\n",
            " 8   contact    11162 non-null  object\n",
            " 9   day        11162 non-null  int64 \n",
            " 10  month      11162 non-null  object\n",
            " 11  duration   11162 non-null  int64 \n",
            " 12  campaign   11162 non-null  int64 \n",
            " 13  pdays      11162 non-null  int64 \n",
            " 14  previous   11162 non-null  int64 \n",
            " 15  poutcome   11162 non-null  object\n",
            " 16  deposit    11162 non-null  object\n",
            "dtypes: int64(7), object(10)\n",
            "memory usage: 1.4+ MB\n",
            "None\n",
            "                age       balance           day      duration      campaign  \\\n",
            "count  11162.000000  11162.000000  11162.000000  11162.000000  11162.000000   \n",
            "mean      41.231948   1528.538524     15.658036    371.993818      2.508421   \n",
            "std       11.913369   3225.413326      8.420740    347.128386      2.722077   \n",
            "min       18.000000  -6847.000000      1.000000      2.000000      1.000000   \n",
            "25%       32.000000    122.000000      8.000000    138.000000      1.000000   \n",
            "50%       39.000000    550.000000     15.000000    255.000000      2.000000   \n",
            "75%       49.000000   1708.000000     22.000000    496.000000      3.000000   \n",
            "max       95.000000  81204.000000     31.000000   3881.000000     63.000000   \n",
            "\n",
            "              pdays      previous  \n",
            "count  11162.000000  11162.000000  \n",
            "mean      51.330407      0.832557  \n",
            "std      108.758282      2.292007  \n",
            "min       -1.000000      0.000000  \n",
            "25%       -1.000000      0.000000  \n",
            "50%       -1.000000      0.000000  \n",
            "75%       20.750000      1.000000  \n",
            "max      854.000000     58.000000  \n"
          ]
        }
      ]
    },
    {
      "cell_type": "code",
      "source": [
        "# Verificar si hay valores nulos en el dataset\n",
        "print(data.isnull().sum())"
      ],
      "metadata": {
        "id": "VYn6OwKC91Fd",
        "outputId": "07001a65-28f2-4c25-a768-c20b2d0ec4d2",
        "colab": {
          "base_uri": "https://localhost:8080/"
        }
      },
      "execution_count": 37,
      "outputs": [
        {
          "output_type": "stream",
          "name": "stdout",
          "text": [
            "age          0\n",
            "job          0\n",
            "marital      0\n",
            "education    0\n",
            "default      0\n",
            "balance      0\n",
            "housing      0\n",
            "loan         0\n",
            "contact      0\n",
            "day          0\n",
            "month        0\n",
            "duration     0\n",
            "campaign     0\n",
            "pdays        0\n",
            "previous     0\n",
            "poutcome     0\n",
            "deposit      0\n",
            "dtype: int64\n"
          ]
        }
      ]
    },
    {
      "cell_type": "code",
      "source": [
        "# Separar la variable objetivo 'deposit' y las variables predictoras 'X'\n",
        "X = data.drop('deposit', axis=1)  # Eliminar la columna 'deposit' de X\n",
        "y = data['deposit']  # La columna 'deposit' es nuestra variable objetivo\n",
        "\n",
        "# Ver los primeros valores de y\n",
        "print(y.head())\n"
      ],
      "metadata": {
        "id": "X0NU_2u_erg9",
        "outputId": "e397f728-8135-4ba5-f1e3-14699a840134",
        "colab": {
          "base_uri": "https://localhost:8080/"
        }
      },
      "execution_count": 38,
      "outputs": [
        {
          "output_type": "stream",
          "name": "stdout",
          "text": [
            "0    yes\n",
            "1    yes\n",
            "2    yes\n",
            "3    yes\n",
            "4    yes\n",
            "Name: deposit, dtype: object\n"
          ]
        }
      ]
    },
    {
      "cell_type": "code",
      "source": [
        "# Convertir la variable objetivo 'deposit' a 0 y 1\n",
        "y = y.map({'yes': 1, 'no': 0})\n",
        "\n",
        "# Verificar que la conversión se realizó correctamente\n",
        "print(y.head())\n"
      ],
      "metadata": {
        "id": "imRWizjifV5l",
        "outputId": "04cd66ce-9e5f-4bb9-ba7e-ee7670c4a2cc",
        "colab": {
          "base_uri": "https://localhost:8080/"
        }
      },
      "execution_count": 39,
      "outputs": [
        {
          "output_type": "stream",
          "name": "stdout",
          "text": [
            "0    1\n",
            "1    1\n",
            "2    1\n",
            "3    1\n",
            "4    1\n",
            "Name: deposit, dtype: int64\n"
          ]
        }
      ]
    },
    {
      "cell_type": "code",
      "source": [
        "# Convertir las variables categóricas en dummy variables\n",
        "X_encoded = pd.get_dummies(X)\n",
        "\n",
        "# Verificar cómo se ve el dataset después de la codificación\n",
        "print(X_encoded.head())\n"
      ],
      "metadata": {
        "id": "lWtDnQ1Jgr5H",
        "outputId": "f0a131b0-4b8c-44fd-c0ce-fc7848445c80",
        "colab": {
          "base_uri": "https://localhost:8080/"
        }
      },
      "execution_count": 40,
      "outputs": [
        {
          "output_type": "stream",
          "name": "stdout",
          "text": [
            "   age  balance  day  duration  campaign  pdays  previous  job_admin.  \\\n",
            "0   59     2343    5      1042         1     -1         0        True   \n",
            "1   56       45    5      1467         1     -1         0        True   \n",
            "2   41     1270    5      1389         1     -1         0       False   \n",
            "3   55     2476    5       579         1     -1         0       False   \n",
            "4   54      184    5       673         2     -1         0        True   \n",
            "\n",
            "   job_blue-collar  job_entrepreneur  ...  month_jun  month_mar  month_may  \\\n",
            "0            False             False  ...      False      False       True   \n",
            "1            False             False  ...      False      False       True   \n",
            "2            False             False  ...      False      False       True   \n",
            "3            False             False  ...      False      False       True   \n",
            "4            False             False  ...      False      False       True   \n",
            "\n",
            "   month_nov  month_oct  month_sep  poutcome_failure  poutcome_other  \\\n",
            "0      False      False      False             False           False   \n",
            "1      False      False      False             False           False   \n",
            "2      False      False      False             False           False   \n",
            "3      False      False      False             False           False   \n",
            "4      False      False      False             False           False   \n",
            "\n",
            "   poutcome_success  poutcome_unknown  \n",
            "0             False              True  \n",
            "1             False              True  \n",
            "2             False              True  \n",
            "3             False              True  \n",
            "4             False              True  \n",
            "\n",
            "[5 rows x 51 columns]\n"
          ]
        }
      ]
    },
    {
      "cell_type": "code",
      "source": [
        "from sklearn.preprocessing import StandardScaler\n",
        "\n",
        "# Inicializar el escalador\n",
        "scaler = StandardScaler()\n",
        "\n",
        "# Aplicar escalado solo a las columnas numéricas\n",
        "num_cols = X_encoded.select_dtypes(include=['int64', 'float64']).columns\n",
        "X_encoded[num_cols] = scaler.fit_transform(X_encoded[num_cols])\n",
        "\n",
        "# Ver cómo se ve el dataset después del escalado\n",
        "print(X_encoded.head())\n"
      ],
      "metadata": {
        "id": "oO-4ErZ_gzXx",
        "outputId": "45f1079a-4f19-46ac-eeb4-9847242951b5",
        "colab": {
          "base_uri": "https://localhost:8080/"
        }
      },
      "execution_count": 41,
      "outputs": [
        {
          "output_type": "stream",
          "name": "stdout",
          "text": [
            "        age   balance       day  duration  campaign     pdays  previous  \\\n",
            "0  1.491505  0.252525 -1.265746  1.930226 -0.554168 -0.481184  -0.36326   \n",
            "1  1.239676 -0.459974 -1.265746  3.154612 -0.554168 -0.481184  -0.36326   \n",
            "2 -0.019470 -0.080160 -1.265746  2.929901 -0.554168 -0.481184  -0.36326   \n",
            "3  1.155733  0.293762 -1.265746  0.596366 -0.554168 -0.481184  -0.36326   \n",
            "4  1.071790 -0.416876 -1.265746  0.867171 -0.186785 -0.481184  -0.36326   \n",
            "\n",
            "   job_admin.  job_blue-collar  job_entrepreneur  ...  month_jun  month_mar  \\\n",
            "0        True            False             False  ...      False      False   \n",
            "1        True            False             False  ...      False      False   \n",
            "2       False            False             False  ...      False      False   \n",
            "3       False            False             False  ...      False      False   \n",
            "4        True            False             False  ...      False      False   \n",
            "\n",
            "   month_may  month_nov  month_oct  month_sep  poutcome_failure  \\\n",
            "0       True      False      False      False             False   \n",
            "1       True      False      False      False             False   \n",
            "2       True      False      False      False             False   \n",
            "3       True      False      False      False             False   \n",
            "4       True      False      False      False             False   \n",
            "\n",
            "   poutcome_other  poutcome_success  poutcome_unknown  \n",
            "0           False             False              True  \n",
            "1           False             False              True  \n",
            "2           False             False              True  \n",
            "3           False             False              True  \n",
            "4           False             False              True  \n",
            "\n",
            "[5 rows x 51 columns]\n"
          ]
        }
      ]
    },
    {
      "cell_type": "code",
      "source": [
        "from sklearn.model_selection import train_test_split\n",
        "\n",
        "# Dividir los datos en entrenamiento y prueba (80% entrenamiento, 20% prueba)\n",
        "X_train, X_test, y_train, y_test = train_test_split(X_encoded, y, test_size=0.2, random_state=42)\n",
        "\n",
        "# Verificar el tamaño de los conjuntos de entrenamiento y prueba\n",
        "print(f'Tamaño del conjunto de entrenamiento: {X_train.shape}')\n",
        "print(f'Tamaño del conjunto de prueba: {X_test.shape}')\n"
      ],
      "metadata": {
        "id": "olqAfN12hYFN",
        "outputId": "99c9a77f-b54e-479f-a274-7cb450ca765e",
        "colab": {
          "base_uri": "https://localhost:8080/"
        }
      },
      "execution_count": 45,
      "outputs": [
        {
          "output_type": "stream",
          "name": "stdout",
          "text": [
            "Tamaño del conjunto de entrenamiento: (8929, 51)\n",
            "Tamaño del conjunto de prueba: (2233, 51)\n"
          ]
        }
      ]
    },
    {
      "cell_type": "code",
      "source": [
        "#MODELO DE REGRESIÓN LOGÍSTICA\n",
        "\n",
        "from sklearn.linear_model import LogisticRegression\n",
        "\n",
        "# Inicializar el modelo\n",
        "model = LogisticRegression()\n",
        "\n",
        "# Entrenar el modelo con el conjunto de entrenamiento\n",
        "model.fit(X_train, y_train)\n",
        "\n",
        "# Hacer predicciones sobre el conjunto de prueba\n",
        "y_pred = model.predict(X_test)\n",
        "\n",
        "# Ver los primeros valores de las predicciones\n",
        "print(y_pred[:10])\n"
      ],
      "metadata": {
        "id": "y-LXeeDeheey",
        "outputId": "e58f4ab6-dcaa-49e7-cd3d-813df8f30452",
        "colab": {
          "base_uri": "https://localhost:8080/"
        }
      },
      "execution_count": 43,
      "outputs": [
        {
          "output_type": "stream",
          "name": "stdout",
          "text": [
            "[0 1 1 1 0 1 0 0 0 1]\n"
          ]
        }
      ]
    },
    {
      "cell_type": "code",
      "source": [
        "from sklearn.metrics import accuracy_score, classification_report, confusion_matrix\n",
        "\n",
        "# Calcular la precisión del modelo\n",
        "accuracy = accuracy_score(y_test, y_pred)\n",
        "print(f'Precisión del modelo: {accuracy}')\n",
        "\n",
        "# Mostrar el reporte de clasificación (precisión, recall, F1-score)\n",
        "print('\\nReporte de clasificación:\\n', classification_report(y_test, y_pred))\n",
        "\n",
        "# Mostrar la matriz de confusión\n",
        "print('\\nMatriz de confusión:\\n', confusion_matrix(y_test, y_pred))\n"
      ],
      "metadata": {
        "id": "hKbzF08dhr5T",
        "outputId": "12d1959f-51e6-4122-bc19-9fac3955f9f8",
        "colab": {
          "base_uri": "https://localhost:8080/"
        }
      },
      "execution_count": 44,
      "outputs": [
        {
          "output_type": "stream",
          "name": "stdout",
          "text": [
            "Precisión del modelo: 0.8083296014330497\n",
            "\n",
            "Reporte de clasificación:\n",
            "               precision    recall  f1-score   support\n",
            "\n",
            "           0       0.81      0.83      0.82      1166\n",
            "           1       0.81      0.78      0.80      1067\n",
            "\n",
            "    accuracy                           0.81      2233\n",
            "   macro avg       0.81      0.81      0.81      2233\n",
            "weighted avg       0.81      0.81      0.81      2233\n",
            "\n",
            "\n",
            "Matriz de confusión:\n",
            " [[972 194]\n",
            " [234 833]]\n"
          ]
        }
      ]
    },
    {
      "cell_type": "code",
      "source": [
        "# Importar bibliotecas para los modelos\n",
        "from sklearn.tree import DecisionTreeClassifier\n",
        "from sklearn.ensemble import RandomForestClassifier\n",
        "import xgboost as xgb\n",
        "from sklearn.metrics import accuracy_score, classification_report, confusion_matrix"
      ],
      "metadata": {
        "id": "Azt6ARvHjLke"
      },
      "execution_count": 46,
      "outputs": []
    },
    {
      "cell_type": "code",
      "source": [
        "#MODELO: ÁRBOLES DE DECISIÓN\n",
        "\n",
        "dt_model = DecisionTreeClassifier(random_state=42)\n",
        "dt_model.fit(X_train, y_train)\n",
        "\n",
        "# Hacer predicciones\n",
        "y_pred_dt = dt_model.predict(X_test)\n",
        "\n",
        "# Evaluar el rendimiento\n",
        "print(\"Evaluación con Árbol de Decisión\")\n",
        "print(\"Precisión:\", accuracy_score(y_test, y_pred_dt))\n",
        "print(\"Reporte de Clasificación:\\n\", classification_report(y_test, y_pred_dt))\n",
        "print(\"Matriz de Confusión:\\n\", confusion_matrix(y_test, y_pred_dt))\n"
      ],
      "metadata": {
        "id": "P9uCArQFjRJD",
        "outputId": "ca852c84-b426-4453-bb7f-9751d7802915",
        "colab": {
          "base_uri": "https://localhost:8080/"
        }
      },
      "execution_count": 49,
      "outputs": [
        {
          "output_type": "stream",
          "name": "stdout",
          "text": [
            "Evaluación con Árbol de Decisión\n",
            "Precisión: 0.7832512315270936\n",
            "Reporte de Clasificación:\n",
            "               precision    recall  f1-score   support\n",
            "\n",
            "           0       0.79      0.81      0.80      1166\n",
            "           1       0.78      0.76      0.77      1067\n",
            "\n",
            "    accuracy                           0.78      2233\n",
            "   macro avg       0.78      0.78      0.78      2233\n",
            "weighted avg       0.78      0.78      0.78      2233\n",
            "\n",
            "Matriz de Confusión:\n",
            " [[939 227]\n",
            " [257 810]]\n"
          ]
        }
      ]
    },
    {
      "cell_type": "code",
      "source": [
        "#MODELO: RANDOM FOREST\n",
        "\n",
        "rf_model = RandomForestClassifier(random_state=42)\n",
        "rf_model.fit(X_train, y_train)\n",
        "\n",
        "# Hacer predicciones\n",
        "y_pred_rf = rf_model.predict(X_test)\n",
        "\n",
        "# Evaluar el rendimiento\n",
        "print(\"Evaluación con Random Forest\")\n",
        "print(\"Precisión:\", accuracy_score(y_test, y_pred_rf))\n",
        "print(\"Reporte de Clasificación:\\n\", classification_report(y_test, y_pred_rf))\n",
        "print(\"Matriz de Confusión:\\n\", confusion_matrix(y_test, y_pred_rf))\n"
      ],
      "metadata": {
        "id": "kH8_opNEjvkp",
        "outputId": "1fc4947c-eb90-487a-de5c-55c48b289900",
        "colab": {
          "base_uri": "https://localhost:8080/"
        }
      },
      "execution_count": 50,
      "outputs": [
        {
          "output_type": "stream",
          "name": "stdout",
          "text": [
            "Evaluación con Random Forest\n",
            "Precisión: 0.8410210479175997\n",
            "Reporte de Clasificación:\n",
            "               precision    recall  f1-score   support\n",
            "\n",
            "           0       0.87      0.82      0.84      1166\n",
            "           1       0.81      0.87      0.84      1067\n",
            "\n",
            "    accuracy                           0.84      2233\n",
            "   macro avg       0.84      0.84      0.84      2233\n",
            "weighted avg       0.84      0.84      0.84      2233\n",
            "\n",
            "Matriz de Confusión:\n",
            " [[955 211]\n",
            " [144 923]]\n"
          ]
        }
      ]
    },
    {
      "cell_type": "code",
      "source": [
        "# XGBOOST\n",
        "\n",
        "xgb_model = xgb.XGBClassifier(random_state=42)\n",
        "xgb_model.fit(X_train, y_train)\n",
        "\n",
        "# Hacer predicciones\n",
        "y_pred_xgb = xgb_model.predict(X_test)\n",
        "\n",
        "# Evaluar el rendimiento\n",
        "print(\"Evaluación con XGBoost\")\n",
        "print(\"Precisión:\", accuracy_score(y_test, y_pred_xgb))\n",
        "print(\"Reporte de Clasificación:\\n\", classification_report(y_test, y_pred_xgb))\n",
        "print(\"Matriz de Confusión:\\n\", confusion_matrix(y_test, y_pred_xgb))\n"
      ],
      "metadata": {
        "id": "WatvOw5Vj92K",
        "outputId": "76dba3b6-a02b-4c8c-84f4-ced779d0cd0d",
        "colab": {
          "base_uri": "https://localhost:8080/"
        }
      },
      "execution_count": 52,
      "outputs": [
        {
          "output_type": "stream",
          "name": "stdout",
          "text": [
            "Evaluación con XGBoost\n",
            "Precisión: 0.8437080161218092\n",
            "Reporte de Clasificación:\n",
            "               precision    recall  f1-score   support\n",
            "\n",
            "           0       0.87      0.83      0.85      1166\n",
            "           1       0.82      0.86      0.84      1067\n",
            "\n",
            "    accuracy                           0.84      2233\n",
            "   macro avg       0.84      0.84      0.84      2233\n",
            "weighted avg       0.84      0.84      0.84      2233\n",
            "\n",
            "Matriz de Confusión:\n",
            " [[965 201]\n",
            " [148 919]]\n"
          ]
        }
      ]
    }
  ],
  "metadata": {
    "colab": {
      "name": "Te damos la bienvenida a Colaboratory",
      "provenance": []
    },
    "kernelspec": {
      "display_name": "Python 3",
      "name": "python3"
    },
    "widgets": {
      "application/vnd.jupyter.widget-state+json": {
        "a916e63354c74cf296f75390c7ef1b82": {
          "model_module": "@jupyter-widgets/controls",
          "model_name": "HBoxModel",
          "model_module_version": "1.5.0",
          "state": {
            "_dom_classes": [],
            "_model_module": "@jupyter-widgets/controls",
            "_model_module_version": "1.5.0",
            "_model_name": "HBoxModel",
            "_view_count": null,
            "_view_module": "@jupyter-widgets/controls",
            "_view_module_version": "1.5.0",
            "_view_name": "HBoxView",
            "box_style": "",
            "children": [
              "IPY_MODEL_e50271651ef34b02b20a06fb9586e1c6",
              "IPY_MODEL_8bdd815641214dc99e2fa012a09450c3",
              "IPY_MODEL_19018337c3c94834939300b063191593"
            ],
            "layout": "IPY_MODEL_4a26e25450364331ad9d8c21e9d4c525"
          }
        },
        "e50271651ef34b02b20a06fb9586e1c6": {
          "model_module": "@jupyter-widgets/controls",
          "model_name": "HTMLModel",
          "model_module_version": "1.5.0",
          "state": {
            "_dom_classes": [],
            "_model_module": "@jupyter-widgets/controls",
            "_model_module_version": "1.5.0",
            "_model_name": "HTMLModel",
            "_view_count": null,
            "_view_module": "@jupyter-widgets/controls",
            "_view_module_version": "1.5.0",
            "_view_name": "HTMLView",
            "description": "",
            "description_tooltip": null,
            "layout": "IPY_MODEL_01512a03c724473c88754282282e6061",
            "placeholder": "​",
            "style": "IPY_MODEL_fbdb32d4ca274dc2b4d23f320ad08fff",
            "value": "Done! Use &#x27;show&#x27; commands to display/save.   "
          }
        },
        "8bdd815641214dc99e2fa012a09450c3": {
          "model_module": "@jupyter-widgets/controls",
          "model_name": "FloatProgressModel",
          "model_module_version": "1.5.0",
          "state": {
            "_dom_classes": [],
            "_model_module": "@jupyter-widgets/controls",
            "_model_module_version": "1.5.0",
            "_model_name": "FloatProgressModel",
            "_view_count": null,
            "_view_module": "@jupyter-widgets/controls",
            "_view_module_version": "1.5.0",
            "_view_name": "ProgressView",
            "bar_style": "success",
            "description": "",
            "description_tooltip": null,
            "layout": "IPY_MODEL_b83cb44294ba46919d66df8d9d5fab25",
            "max": 1,
            "min": 0,
            "orientation": "horizontal",
            "style": "IPY_MODEL_4c93d5d52d9c4b3899489c5b92c925ad",
            "value": 1
          }
        },
        "19018337c3c94834939300b063191593": {
          "model_module": "@jupyter-widgets/controls",
          "model_name": "HTMLModel",
          "model_module_version": "1.5.0",
          "state": {
            "_dom_classes": [],
            "_model_module": "@jupyter-widgets/controls",
            "_model_module_version": "1.5.0",
            "_model_name": "HTMLModel",
            "_view_count": null,
            "_view_module": "@jupyter-widgets/controls",
            "_view_module_version": "1.5.0",
            "_view_name": "HTMLView",
            "description": "",
            "description_tooltip": null,
            "layout": "IPY_MODEL_b8003d9dac0f4e7da9292f608ad317dd",
            "placeholder": "​",
            "style": "IPY_MODEL_39ceff0eb16e4b17b22db4e6b70b095e",
            "value": " [100%]   00:01 -&gt; (00:00 left)"
          }
        },
        "4a26e25450364331ad9d8c21e9d4c525": {
          "model_module": "@jupyter-widgets/base",
          "model_name": "LayoutModel",
          "model_module_version": "1.2.0",
          "state": {
            "_model_module": "@jupyter-widgets/base",
            "_model_module_version": "1.2.0",
            "_model_name": "LayoutModel",
            "_view_count": null,
            "_view_module": "@jupyter-widgets/base",
            "_view_module_version": "1.2.0",
            "_view_name": "LayoutView",
            "align_content": null,
            "align_items": null,
            "align_self": null,
            "border": null,
            "bottom": null,
            "display": "inline-flex",
            "flex": null,
            "flex_flow": "row wrap",
            "grid_area": null,
            "grid_auto_columns": null,
            "grid_auto_flow": null,
            "grid_auto_rows": null,
            "grid_column": null,
            "grid_gap": null,
            "grid_row": null,
            "grid_template_areas": null,
            "grid_template_columns": null,
            "grid_template_rows": null,
            "height": null,
            "justify_content": null,
            "justify_items": null,
            "left": null,
            "margin": null,
            "max_height": null,
            "max_width": null,
            "min_height": null,
            "min_width": null,
            "object_fit": null,
            "object_position": null,
            "order": null,
            "overflow": null,
            "overflow_x": null,
            "overflow_y": null,
            "padding": null,
            "right": null,
            "top": null,
            "visibility": null,
            "width": "100%"
          }
        },
        "01512a03c724473c88754282282e6061": {
          "model_module": "@jupyter-widgets/base",
          "model_name": "LayoutModel",
          "model_module_version": "1.2.0",
          "state": {
            "_model_module": "@jupyter-widgets/base",
            "_model_module_version": "1.2.0",
            "_model_name": "LayoutModel",
            "_view_count": null,
            "_view_module": "@jupyter-widgets/base",
            "_view_module_version": "1.2.0",
            "_view_name": "LayoutView",
            "align_content": null,
            "align_items": null,
            "align_self": null,
            "border": null,
            "bottom": null,
            "display": null,
            "flex": null,
            "flex_flow": null,
            "grid_area": null,
            "grid_auto_columns": null,
            "grid_auto_flow": null,
            "grid_auto_rows": null,
            "grid_column": null,
            "grid_gap": null,
            "grid_row": null,
            "grid_template_areas": null,
            "grid_template_columns": null,
            "grid_template_rows": null,
            "height": null,
            "justify_content": null,
            "justify_items": null,
            "left": null,
            "margin": null,
            "max_height": null,
            "max_width": null,
            "min_height": null,
            "min_width": null,
            "object_fit": null,
            "object_position": null,
            "order": null,
            "overflow": null,
            "overflow_x": null,
            "overflow_y": null,
            "padding": null,
            "right": null,
            "top": null,
            "visibility": null,
            "width": null
          }
        },
        "fbdb32d4ca274dc2b4d23f320ad08fff": {
          "model_module": "@jupyter-widgets/controls",
          "model_name": "DescriptionStyleModel",
          "model_module_version": "1.5.0",
          "state": {
            "_model_module": "@jupyter-widgets/controls",
            "_model_module_version": "1.5.0",
            "_model_name": "DescriptionStyleModel",
            "_view_count": null,
            "_view_module": "@jupyter-widgets/base",
            "_view_module_version": "1.2.0",
            "_view_name": "StyleView",
            "description_width": ""
          }
        },
        "b83cb44294ba46919d66df8d9d5fab25": {
          "model_module": "@jupyter-widgets/base",
          "model_name": "LayoutModel",
          "model_module_version": "1.2.0",
          "state": {
            "_model_module": "@jupyter-widgets/base",
            "_model_module_version": "1.2.0",
            "_model_name": "LayoutModel",
            "_view_count": null,
            "_view_module": "@jupyter-widgets/base",
            "_view_module_version": "1.2.0",
            "_view_name": "LayoutView",
            "align_content": null,
            "align_items": null,
            "align_self": null,
            "border": null,
            "bottom": null,
            "display": null,
            "flex": "2",
            "flex_flow": null,
            "grid_area": null,
            "grid_auto_columns": null,
            "grid_auto_flow": null,
            "grid_auto_rows": null,
            "grid_column": null,
            "grid_gap": null,
            "grid_row": null,
            "grid_template_areas": null,
            "grid_template_columns": null,
            "grid_template_rows": null,
            "height": null,
            "justify_content": null,
            "justify_items": null,
            "left": null,
            "margin": null,
            "max_height": null,
            "max_width": null,
            "min_height": null,
            "min_width": null,
            "object_fit": null,
            "object_position": null,
            "order": null,
            "overflow": null,
            "overflow_x": null,
            "overflow_y": null,
            "padding": null,
            "right": null,
            "top": null,
            "visibility": null,
            "width": null
          }
        },
        "4c93d5d52d9c4b3899489c5b92c925ad": {
          "model_module": "@jupyter-widgets/controls",
          "model_name": "ProgressStyleModel",
          "model_module_version": "1.5.0",
          "state": {
            "_model_module": "@jupyter-widgets/controls",
            "_model_module_version": "1.5.0",
            "_model_name": "ProgressStyleModel",
            "_view_count": null,
            "_view_module": "@jupyter-widgets/base",
            "_view_module_version": "1.2.0",
            "_view_name": "StyleView",
            "bar_color": null,
            "description_width": ""
          }
        },
        "b8003d9dac0f4e7da9292f608ad317dd": {
          "model_module": "@jupyter-widgets/base",
          "model_name": "LayoutModel",
          "model_module_version": "1.2.0",
          "state": {
            "_model_module": "@jupyter-widgets/base",
            "_model_module_version": "1.2.0",
            "_model_name": "LayoutModel",
            "_view_count": null,
            "_view_module": "@jupyter-widgets/base",
            "_view_module_version": "1.2.0",
            "_view_name": "LayoutView",
            "align_content": null,
            "align_items": null,
            "align_self": null,
            "border": null,
            "bottom": null,
            "display": null,
            "flex": null,
            "flex_flow": null,
            "grid_area": null,
            "grid_auto_columns": null,
            "grid_auto_flow": null,
            "grid_auto_rows": null,
            "grid_column": null,
            "grid_gap": null,
            "grid_row": null,
            "grid_template_areas": null,
            "grid_template_columns": null,
            "grid_template_rows": null,
            "height": null,
            "justify_content": null,
            "justify_items": null,
            "left": null,
            "margin": null,
            "max_height": null,
            "max_width": null,
            "min_height": null,
            "min_width": null,
            "object_fit": null,
            "object_position": null,
            "order": null,
            "overflow": null,
            "overflow_x": null,
            "overflow_y": null,
            "padding": null,
            "right": null,
            "top": null,
            "visibility": null,
            "width": null
          }
        },
        "39ceff0eb16e4b17b22db4e6b70b095e": {
          "model_module": "@jupyter-widgets/controls",
          "model_name": "DescriptionStyleModel",
          "model_module_version": "1.5.0",
          "state": {
            "_model_module": "@jupyter-widgets/controls",
            "_model_module_version": "1.5.0",
            "_model_name": "DescriptionStyleModel",
            "_view_count": null,
            "_view_module": "@jupyter-widgets/base",
            "_view_module_version": "1.2.0",
            "_view_name": "StyleView",
            "description_width": ""
          }
        }
      }
    }
  },
  "nbformat": 4,
  "nbformat_minor": 0
}